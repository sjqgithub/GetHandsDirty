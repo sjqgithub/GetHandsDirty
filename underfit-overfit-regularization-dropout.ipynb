{
 "cells": [
  {
   "cell_type": "markdown",
   "metadata": {},
   "source": [
    "## underfit-overfit"
   ]
  },
  {
   "cell_type": "markdown",
   "metadata": {},
   "source": [
    "Interpretation by linear regression"
   ]
  },
  {
   "cell_type": "code",
   "execution_count": 1,
   "metadata": {
    "collapsed": true
   },
   "outputs": [],
   "source": [
    "from mxnet import ndarray as nd\n",
    "from mxnet import autograd\n",
    "from mxnet import gluon\n",
    "\n",
    "num_train = 100\n",
    "num_test = 100\n",
    "true_w = [1.2, -3.4, 5.6]\n",
    "true_b = 5.0"
   ]
  },
  {
   "cell_type": "code",
   "execution_count": 2,
   "metadata": {},
   "outputs": [
    {
     "data": {
      "text/plain": [
       "('x:', \n",
       " [[ 1.16307867]\n",
       "  [ 0.48380461]\n",
       "  [ 0.29956347]\n",
       "  [ 0.15302546]\n",
       "  [-1.16881478]]\n",
       " <NDArray 5x1 @cpu(0)>, 'X:', \n",
       " [[ 1.16307867  1.35275197  1.57335699]\n",
       "  [ 0.48380461  0.2340669   0.11324265]\n",
       "  [ 0.29956347  0.08973827  0.02688231]\n",
       "  [ 0.15302546  0.02341679  0.00358337]\n",
       "  [-1.16881478  1.36612797 -1.59675062]]\n",
       " <NDArray 5x3 @cpu(0)>, 'y:', \n",
       " [ 10.5346508    5.53009319   5.1570797    5.00668526 -10.06843472]\n",
       " <NDArray 5 @cpu(0)>)"
      ]
     },
     "execution_count": 2,
     "metadata": {},
     "output_type": "execute_result"
    }
   ],
   "source": [
    "x = nd.random.normal(shape=(num_train + num_test, 1))\n",
    "X = nd.concat(x, nd.power(x, 2), nd.power(x, 3))\n",
    "y = true_w[0] * X[:, 0] + true_w[1] * X[:, 1] + true_w[2] * X[:, 2] + true_b\n",
    "y += .1 * nd.random.normal(shape=y.shape)\n",
    "\n",
    "('x:', x[:5], 'X:', X[:5], 'y:', y[:5])"
   ]
  },
  {
   "cell_type": "code",
   "execution_count": 3,
   "metadata": {
    "collapsed": true
   },
   "outputs": [],
   "source": [
    "%matplotlib inline\n",
    "import matplotlib as mpl\n",
    "mpl.rcParams['figure.dpi']= 120\n",
    "import matplotlib.pyplot as plt\n",
    "\n",
    "def train(X_train, X_test, y_train, y_test):\n",
    "    # 线性回归模型\n",
    "    net = gluon.nn.Sequential()\n",
    "    with net.name_scope():\n",
    "        net.add(gluon.nn.Dense(1))\n",
    "    net.initialize()\n",
    "    # 设一些默认参数\n",
    "    learning_rate = 0.01\n",
    "    epochs = 100\n",
    "    batch_size = min(10, y_train.shape[0])\n",
    "    dataset_train = gluon.data.ArrayDataset(X_train, y_train)\n",
    "    data_iter_train = gluon.data.DataLoader(\n",
    "        dataset_train, batch_size, shuffle=True)\n",
    "    # 默认SGD和均方误差\n",
    "    trainer = gluon.Trainer(net.collect_params(), 'sgd', {\n",
    "        'learning_rate': learning_rate})\n",
    "    square_loss = gluon.loss.L2Loss()\n",
    "    # 保存训练和测试损失\n",
    "    train_loss = []\n",
    "    test_loss = []\n",
    "    for e in range(epochs):\n",
    "        for data, label in data_iter_train:\n",
    "            with autograd.record():\n",
    "                output = net(data)\n",
    "                loss = square_loss(output, label)\n",
    "            loss.backward()\n",
    "            trainer.step(batch_size)\n",
    "        train_loss.append(square_loss(\n",
    "            net(X_train), y_train).mean().asscalar())\n",
    "        test_loss.append(square_loss(\n",
    "            net(X_test), y_test).mean().asscalar())\n",
    "    # 打印结果\n",
    "    plt.plot(train_loss)\n",
    "    plt.plot(test_loss)\n",
    "    plt.legend(['train','test'])\n",
    "    plt.show()\n",
    "    return ('learned weight', net[0].weight.data(),\n",
    "            'learned bias', net[0].bias.data())"
   ]
  },
  {
   "cell_type": "markdown",
   "metadata": {},
   "source": [
    "fit"
   ]
  },
  {
   "cell_type": "code",
   "execution_count": 4,
   "metadata": {},
   "outputs": [
    {
     "data": {
      "image/png": "[encoded data removed]",
      "text/plain": [
       "<matplotlib.figure.Figure at 0x111beec18>"
      ]
     },
     "metadata": {},
     "output_type": "display_data"
    },
    {
     "data": {
      "text/plain": [
       "('learned weight', \n",
       " [[ 1.16940939 -3.39058709  5.60412502]]\n",
       " <NDArray 1x3 @cpu(0)>, 'learned bias', \n",
       " [ 4.98542166]\n",
       " <NDArray 1 @cpu(0)>)"
      ]
     },
     "execution_count": 4,
     "metadata": {},
     "output_type": "execute_result"
    }
   ],
   "source": [
    "train(X[:num_train, :], X[num_train:, :], y[:num_train], y[num_train:])"
   ]
  },
  {
   "cell_type": "markdown",
   "metadata": {},
   "source": [
    "underfit"
   ]
  },
  {
   "cell_type": "code",
   "execution_count": 5,
   "metadata": {},
   "outputs": [
    {
     "data": {
      "image/png": "[encoded data removed]",
      "text/plain": [
       "<matplotlib.figure.Figure at 0x108d10278>"
      ]
     },
     "metadata": {},
     "output_type": "display_data"
    },
    {
     "data": {
      "text/plain": [
       "('learned weight', \n",
       " [[ 22.68367577]]\n",
       " <NDArray 1x1 @cpu(0)>, 'learned bias', \n",
       " [-0.66120291]\n",
       " <NDArray 1 @cpu(0)>)"
      ]
     },
     "execution_count": 5,
     "metadata": {},
     "output_type": "execute_result"
    }
   ],
   "source": [
    "train(x[:num_train, :], x[num_train:, :], y[:num_train], y[num_train:])"
   ]
  },
  {
   "cell_type": "markdown",
   "metadata": {},
   "source": [
    "overfit"
   ]
  },
  {
   "cell_type": "code",
   "execution_count": 6,
   "metadata": {},
   "outputs": [
    {
     "data": {
      "image/png": "[encoded data removed]",
      "text/plain": [
       "<matplotlib.figure.Figure at 0x115ab1198>"
      ]
     },
     "metadata": {},
     "output_type": "display_data"
    },
    {
     "data": {
      "text/plain": [
       "('learned weight', \n",
       " [[ 2.05884552  1.92736697  2.0477407 ]]\n",
       " <NDArray 1x3 @cpu(0)>, 'learned bias', \n",
       " [ 2.4821291]\n",
       " <NDArray 1 @cpu(0)>)"
      ]
     },
     "execution_count": 6,
     "metadata": {},
     "output_type": "execute_result"
    }
   ],
   "source": [
    "train(X[0:2, :], X[num_train:, :], y[0:2], y[num_train:])"
   ]
  },
  {
   "cell_type": "markdown",
   "metadata": {},
   "source": [
    "## regularization-scratch"
   ]
  },
  {
   "cell_type": "markdown",
   "metadata": {},
   "source": [
    "Interpretation by logistic regression"
   ]
  },
  {
   "cell_type": "code",
   "execution_count": 7,
   "metadata": {
    "collapsed": true
   },
   "outputs": [],
   "source": [
    "from mxnet import ndarray as nd\n",
    "from mxnet import autograd\n",
    "from mxnet import gluon\n",
    "import mxnet as mx\n",
    "\n",
    "num_train = 20\n",
    "num_test = 100\n",
    "num_inputs = 200\n",
    "\n",
    "true_w = nd.ones((num_inputs, 1)) * 0.01\n",
    "true_b = 0.05\n",
    "\n",
    "\n",
    "X = nd.random.normal(shape=(num_train + num_test, num_inputs))\n",
    "y = nd.dot(X, true_w) + true_b\n",
    "y += .01 * nd.random.normal(shape=y.shape)\n",
    "\n",
    "X_train, X_test = X[:num_train, :], X[num_train:, :]\n",
    "y_train, y_test = y[:num_train], y[num_train:]"
   ]
  },
  {
   "cell_type": "code",
   "execution_count": 8,
   "metadata": {
    "collapsed": true
   },
   "outputs": [],
   "source": [
    "import random\n",
    "batch_size = 1\n",
    "def data_iter(num_examples):\n",
    "    idx = list(range(num_examples))\n",
    "    random.shuffle(idx)\n",
    "    for i in range(0, num_examples, batch_size):\n",
    "        j = nd.array(idx[i:min(i+batch_size,num_examples)])\n",
    "        yield X.take(j), y.take(j)"
   ]
  },
  {
   "cell_type": "code",
   "execution_count": 9,
   "metadata": {
    "collapsed": true
   },
   "outputs": [],
   "source": [
    "def init_params():\n",
    "    w = nd.random_normal(scale=1, shape=(num_inputs, 1))\n",
    "    b = nd.zeros(shape=(1,))\n",
    "    params = [w, b]\n",
    "    for param in params:\n",
    "        param.attach_grad()\n",
    "    return params"
   ]
  },
  {
   "cell_type": "code",
   "execution_count": 10,
   "metadata": {
    "collapsed": true
   },
   "outputs": [],
   "source": [
    "def L2_penalty(w, b):\n",
    "    return ((w**2).sum() + b**2) / 2"
   ]
  },
  {
   "cell_type": "code",
   "execution_count": 11,
   "metadata": {
    "collapsed": true
   },
   "outputs": [],
   "source": [
    "%matplotlib inline\n",
    "import matplotlib as mpl\n",
    "mpl.rcParams['figure.dpi']= 120\n",
    "import matplotlib.pyplot as plt\n",
    "import numpy as np\n",
    "\n",
    "def net(X, w, b):\n",
    "    return nd.dot(X, w) + b\n",
    "\n",
    "def square_loss(yhat, y):\n",
    "    return (yhat - y.reshape(yhat.shape)) ** 2 / 2\n",
    "\n",
    "def sgd(params, lr, batch_size):\n",
    "    for param in params:\n",
    "        param[:] = param - lr * param.grad / batch_size\n",
    "\n",
    "def test(net, params, X, y):\n",
    "    return square_loss(net(X, *params), y).mean().asscalar()\n",
    "    #return np.mean(square_loss(net(X, *params), y).asnumpy())\n",
    "\n",
    "def train(lambd):\n",
    "    epochs = 10\n",
    "    learning_rate = 0.005\n",
    "    w, b = params = init_params()\n",
    "    train_loss = []\n",
    "    test_loss = []\n",
    "    for e in range(epochs):\n",
    "        for data, label in data_iter(num_train):\n",
    "            with autograd.record():\n",
    "                output = net(data, *params)\n",
    "                loss = square_loss(\n",
    "                    output, label) + lambd * L2_penalty(*params)\n",
    "            loss.backward()\n",
    "            sgd(params, learning_rate, batch_size)\n",
    "        train_loss.append(test(net, params, X_train, y_train))\n",
    "        test_loss.append(test(net, params, X_test, y_test))\n",
    "    plt.plot(train_loss)\n",
    "    plt.plot(test_loss)\n",
    "    plt.legend(['train', 'test'])\n",
    "    plt.show()\n",
    "    return 'learned w[:10]:', w[:10].T, 'learned b:', b"
   ]
  },
  {
   "cell_type": "markdown",
   "metadata": {},
   "source": [
    "without regularization"
   ]
  },
  {
   "cell_type": "code",
   "execution_count": 12,
   "metadata": {},
   "outputs": [
    {
     "data": {
      "image/png": "[encoded data removed]",
      "text/plain": [
       "<matplotlib.figure.Figure at 0x1105b0438>"
      ]
     },
     "metadata": {},
     "output_type": "display_data"
    },
    {
     "data": {
      "text/plain": [
       "('learned w[:10]:', \n",
       " [[ 0.02654596 -0.92490536 -2.57755566 -0.22590612 -0.202988   -0.07110693\n",
       "    0.06192679 -0.08779521 -0.43305466 -1.32045341]]\n",
       " <NDArray 1x10 @cpu(0)>, 'learned b:', \n",
       " [-0.09419557]\n",
       " <NDArray 1 @cpu(0)>)"
      ]
     },
     "execution_count": 12,
     "metadata": {},
     "output_type": "execute_result"
    }
   ],
   "source": [
    "train(0)"
   ]
  },
  {
   "cell_type": "code",
   "execution_count": 13,
   "metadata": {},
   "outputs": [
    {
     "data": {
      "image/png": "[encoded data removed]",
      "text/plain": [
       "<matplotlib.figure.Figure at 0x115ac4828>"
      ]
     },
     "metadata": {},
     "output_type": "display_data"
    },
    {
     "data": {
      "text/plain": [
       "('learned w[:10]:', \n",
       " [[-0.00391047 -0.00232602  0.00812822  0.01626859 -0.00663275  0.00219174\n",
       "    0.0036415   0.00201697 -0.00890311 -0.00227397]]\n",
       " <NDArray 1x10 @cpu(0)>, 'learned b:', \n",
       " [ 0.00444688]\n",
       " <NDArray 1 @cpu(0)>)"
      ]
     },
     "execution_count": 13,
     "metadata": {},
     "output_type": "execute_result"
    }
   ],
   "source": [
    "train(5)"
   ]
  },
  {
   "cell_type": "markdown",
   "metadata": {},
   "source": [
    "## regularization-gluon"
   ]
  },
  {
   "cell_type": "code",
   "execution_count": 14,
   "metadata": {
    "collapsed": true
   },
   "outputs": [],
   "source": [
    "from mxnet import ndarray as nd\n",
    "from mxnet import autograd\n",
    "from mxnet import gluon\n",
    "import mxnet as mx\n",
    "\n",
    "num_train = 20\n",
    "num_test = 100\n",
    "num_inputs = 200\n",
    "\n",
    "true_w = nd.ones((num_inputs, 1)) * 0.01\n",
    "true_b = 0.05\n",
    "\n",
    "X = nd.random.normal(shape=(num_train + num_test, num_inputs))\n",
    "y = nd.dot(X, true_w) + true_b\n",
    "y += .01 * nd.random.normal(shape=y.shape)\n",
    "\n",
    "X_train, X_test = X[:num_train, :], X[num_train:, :]\n",
    "y_train, y_test = y[:num_train], y[num_train:]"
   ]
  },
  {
   "cell_type": "code",
   "execution_count": 15,
   "metadata": {
    "collapsed": true
   },
   "outputs": [],
   "source": [
    "%matplotlib inline\n",
    "import matplotlib as mpl\n",
    "mpl.rcParams['figure.dpi']= 120\n",
    "import matplotlib.pyplot as plt\n",
    "import numpy as np\n",
    "\n",
    "batch_size = 1\n",
    "dataset_train = gluon.data.ArrayDataset(X_train, y_train)\n",
    "data_iter_train = gluon.data.DataLoader(dataset_train, batch_size, shuffle=True)\n",
    "\n",
    "square_loss = gluon.loss.L2Loss()\n",
    "\n",
    "def test(net, X, y):\n",
    "    return square_loss(net(X), y).mean().asscalar()\n",
    "\n",
    "def train(weight_decay):\n",
    "    epochs = 10\n",
    "    learning_rate = 0.005\n",
    "    net = gluon.nn.Sequential()\n",
    "    with net.name_scope():\n",
    "        net.add(gluon.nn.Dense(1))\n",
    "    net.collect_params().initialize(mx.init.Normal(sigma=1))\n",
    "\n",
    "    # 注意到这里 'wd'\n",
    "    trainer = gluon.Trainer(net.collect_params(), 'sgd', {\n",
    "        'learning_rate': learning_rate, 'wd': weight_decay})\n",
    "\n",
    "    train_loss = []\n",
    "    test_loss = []\n",
    "    for e in range(epochs):\n",
    "        for data, label in data_iter_train:\n",
    "            with autograd.record():\n",
    "                output = net(data)\n",
    "                loss = square_loss(output, label)\n",
    "            loss.backward()\n",
    "            trainer.step(batch_size)\n",
    "        train_loss.append(test(net, X_train, y_train))\n",
    "        test_loss.append(test(net, X_test, y_test))\n",
    "    plt.plot(train_loss)\n",
    "    plt.plot(test_loss)\n",
    "    plt.legend(['train','test'])\n",
    "    plt.show()\n",
    "\n",
    "    return ('learned w[:10]:', net[0].weight.data()[:,:10],\n",
    "            'learned b:', net[0].bias.data())"
   ]
  },
  {
   "cell_type": "code",
   "execution_count": 16,
   "metadata": {},
   "outputs": [
    {
     "data": {
      "image/png": "[encoded data removed]",
      "text/plain": [
       "<matplotlib.figure.Figure at 0x115c5bd30>"
      ]
     },
     "metadata": {},
     "output_type": "display_data"
    },
    {
     "data": {
      "text/plain": [
       "('learned w[:10]:', \n",
       " [[-1.98230755  0.10768683 -0.95796871  0.22392957 -0.31485918  0.16134501\n",
       "    0.17467454 -0.42611712 -0.0182256  -0.89444703]]\n",
       " <NDArray 1x10 @cpu(0)>, 'learned b:', \n",
       " [ 0.01043971]\n",
       " <NDArray 1 @cpu(0)>)"
      ]
     },
     "execution_count": 16,
     "metadata": {},
     "output_type": "execute_result"
    }
   ],
   "source": [
    "train(0)"
   ]
  },
  {
   "cell_type": "code",
   "execution_count": 17,
   "metadata": {},
   "outputs": [
    {
     "data": {
      "image/png": "[encoded data removed]",
      "text/plain": [
       "<matplotlib.figure.Figure at 0x115c23390>"
      ]
     },
     "metadata": {},
     "output_type": "display_data"
    },
    {
     "data": {
      "text/plain": [
       "('learned w[:10]:', \n",
       " [[  9.80840437e-03  -1.96589995e-03  -8.73846374e-03  -8.95807389e-05\n",
       "    -1.24460226e-02  -2.32380931e-03   1.34183408e-03   1.10770471e-03\n",
       "     7.54183347e-05  -9.24455002e-03]]\n",
       " <NDArray 1x10 @cpu(0)>, 'learned b:', \n",
       " [ 0.0063216]\n",
       " <NDArray 1 @cpu(0)>)"
      ]
     },
     "execution_count": 17,
     "metadata": {},
     "output_type": "execute_result"
    }
   ],
   "source": [
    "train(5)"
   ]
  },
  {
   "cell_type": "markdown",
   "metadata": {
    "collapsed": true
   },
   "source": [
    "## dropout"
   ]
  },
  {
   "cell_type": "markdown",
   "metadata": {},
   "source": [
    "Interpretation by mlp"
   ]
  },
  {
   "cell_type": "code",
   "execution_count": 20,
   "metadata": {
    "collapsed": true
   },
   "outputs": [],
   "source": [
    "from mxnet import nd\n",
    "\n",
    "def dropout(X, drop_probability):\n",
    "    keep_probability = 1 - drop_probability\n",
    "    assert 0 <= keep_probability <= 1\n",
    "    # 这种情况下把全部元素都丢弃。\n",
    "    if keep_probability == 0:\n",
    "        return X.zeros_like()\n",
    "\n",
    "    # 随机选择一部分该层的输出作为丢弃元素。\n",
    "    mask = nd.random.uniform(\n",
    "        0, 1.0, X.shape, ctx=X.context) < keep_probability\n",
    "    # 保证 E[dropout(X)] == X\n",
    "    scale =  1 / keep_probability\n",
    "    return mask * X * scale"
   ]
  },
  {
   "cell_type": "code",
   "execution_count": 21,
   "metadata": {},
   "outputs": [
    {
     "data": {
      "text/plain": [
       "\n",
       "[[  0.   1.   2.   3.]\n",
       " [  4.   5.   6.   7.]\n",
       " [  8.   9.  10.  11.]\n",
       " [ 12.  13.  14.  15.]\n",
       " [ 16.  17.  18.  19.]]\n",
       "<NDArray 5x4 @cpu(0)>"
      ]
     },
     "execution_count": 21,
     "metadata": {},
     "output_type": "execute_result"
    }
   ],
   "source": [
    "A = nd.arange(20).reshape((5,4))\n",
    "dropout(A, 0.0)"
   ]
  },
  {
   "cell_type": "code",
   "execution_count": 22,
   "metadata": {},
   "outputs": [
    {
     "data": {
      "text/plain": [
       "\n",
       "[[  0.   0.   0.   0.]\n",
       " [  0.  10.   0.   0.]\n",
       " [ 16.  18.  20.  22.]\n",
       " [ 24.  26.  28.   0.]\n",
       " [ 32.   0.  36.  38.]]\n",
       "<NDArray 5x4 @cpu(0)>"
      ]
     },
     "execution_count": 22,
     "metadata": {},
     "output_type": "execute_result"
    }
   ],
   "source": [
    "dropout(A, 0.5)"
   ]
  },
  {
   "cell_type": "code",
   "execution_count": 23,
   "metadata": {},
   "outputs": [
    {
     "data": {
      "text/plain": [
       "\n",
       "[[ 0.  0.  0.  0.]\n",
       " [ 0.  0.  0.  0.]\n",
       " [ 0.  0.  0.  0.]\n",
       " [ 0.  0.  0.  0.]\n",
       " [ 0.  0.  0.  0.]]\n",
       "<NDArray 5x4 @cpu(0)>"
      ]
     },
     "execution_count": 23,
     "metadata": {},
     "output_type": "execute_result"
    }
   ],
   "source": [
    "dropout(A, 1.0)"
   ]
  },
  {
   "cell_type": "code",
   "execution_count": 24,
   "metadata": {
    "collapsed": true
   },
   "outputs": [],
   "source": [
    "import numpy as np\n",
    "class DataLoader(object):\n",
    "    \"\"\"similiar to gluon.data.DataLoader, but might be faster.\n",
    "\n",
    "    The main difference this data loader tries to read more exmaples each\n",
    "    time. But the limits are 1) all examples in dataset have the same shape, 2)\n",
    "    data transfomer needs to process multiple examples at each time\n",
    "    \"\"\"\n",
    "    def __init__(self, dataset, batch_size, shuffle, transform=None):\n",
    "        self.dataset = dataset\n",
    "        self.batch_size = batch_size\n",
    "        self.shuffle = shuffle\n",
    "        self.transform = transform\n",
    "\n",
    "    def __iter__(self):\n",
    "        data = self.dataset[:]\n",
    "        X = data[0]\n",
    "        y = nd.array(data[1])\n",
    "        n = X.shape[0]\n",
    "        if self.shuffle:\n",
    "            idx = np.arange(n)\n",
    "            np.random.shuffle(idx)\n",
    "            X = nd.array(X.asnumpy()[idx])\n",
    "            y = nd.array(y.asnumpy()[idx])\n",
    "\n",
    "        for i in range(n//self.batch_size):\n",
    "            if self.transform is not None:\n",
    "                yield self.transform(X[i*self.batch_size:(i+1)*self.batch_size], \n",
    "                                     y[i*self.batch_size:(i+1)*self.batch_size])\n",
    "            else:\n",
    "                yield (X[i*self.batch_size:(i+1)*self.batch_size],\n",
    "                       y[i*self.batch_size:(i+1)*self.batch_size])\n",
    "\n",
    "    def __len__(self):\n",
    "        return len(self.dataset)//self.batch_size"
   ]
  },
  {
   "cell_type": "code",
   "execution_count": 25,
   "metadata": {
    "collapsed": true
   },
   "outputs": [],
   "source": [
    "def load_data_fashion_mnist(batch_size, resize=None, root=\"~/.mxnet/datasets/fashion-mnist\"):\n",
    "    \"\"\"download the fashion mnist dataest and then load into memory\"\"\"\n",
    "    def transform_mnist(data, label):\n",
    "        # Transform a batch of examples.\n",
    "        if resize:\n",
    "            n = data.shape[0]\n",
    "            new_data = nd.zeros((n, resize, resize, data.shape[3]))\n",
    "            for i in range(n):\n",
    "                new_data[i] = image.imresize(data[i], resize, resize)\n",
    "            data = new_data\n",
    "        # change data from batch x height x width x channel to batch x channel x height x width\n",
    "        return nd.transpose(data.astype('float32'), (0,3,1,2))/255, label.astype('float32')\n",
    "\n",
    "    mnist_train = gluon.data.vision.FashionMNIST(root=root, train=True, transform=None)\n",
    "    mnist_test = gluon.data.vision.FashionMNIST(root=root, train=False, transform=None)\n",
    "    # Transform later to avoid memory explosion. \n",
    "    train_data = DataLoader(mnist_train, batch_size, shuffle=True, transform=transform_mnist)\n",
    "    test_data = DataLoader(mnist_test, batch_size, shuffle=False, transform=transform_mnist)\n",
    "    return (train_data, test_data)"
   ]
  },
  {
   "cell_type": "code",
   "execution_count": 26,
   "metadata": {
    "collapsed": true
   },
   "outputs": [],
   "source": [
    "batch_size = 256\n",
    "train_data, test_data = load_data_fashion_mnist(batch_size)"
   ]
  },
  {
   "cell_type": "code",
   "execution_count": 45,
   "metadata": {
    "collapsed": true
   },
   "outputs": [],
   "source": [
    "num_inputs = 28*28\n",
    "num_outputs = 10\n",
    "\n",
    "num_hidden1 = 256\n",
    "num_hidden2 = 256\n",
    "weight_scale = .01\n",
    "\n",
    "W1 = nd.random_normal(shape=(num_inputs, num_hidden1), scale=weight_scale)\n",
    "b1 = nd.zeros(num_hidden1)\n",
    "\n",
    "W2 = nd.random_normal(shape=(num_hidden1, num_hidden2), scale=weight_scale)\n",
    "b2 = nd.zeros(num_hidden2)\n",
    "\n",
    "W3 = nd.random_normal(shape=(num_hidden2, num_outputs), scale=weight_scale)\n",
    "b3 = nd.zeros(num_outputs)\n",
    "\n",
    "params = [W1, b1, W2, b2, W3, b3]\n",
    "\n",
    "for param in params:\n",
    "    param.attach_grad()"
   ]
  },
  {
   "cell_type": "code",
   "execution_count": 28,
   "metadata": {
    "collapsed": true
   },
   "outputs": [],
   "source": [
    "drop_prob1 = 0.2\n",
    "drop_prob2 = 0.5\n",
    "\n",
    "def net(X):\n",
    "    X = X.reshape((-1, num_inputs))\n",
    "    # 第一层全连接。\n",
    "    h1 = nd.relu(nd.dot(X, W1) + b1)\n",
    "    # 在第一层全连接后添加丢弃层。\n",
    "    h1 = dropout(h1, drop_prob1)\n",
    "    # 第二层全连接。\n",
    "    h2 = nd.relu(nd.dot(h1, W2) + b2)\n",
    "    # 在第二层全连接后添加丢弃层。\n",
    "    h2 = dropout(h2, drop_prob2)\n",
    "    return nd.dot(h2, W3) + b3"
   ]
  },
  {
   "cell_type": "code",
   "execution_count": 44,
   "metadata": {
    "collapsed": true
   },
   "outputs": [],
   "source": [
    "# for test\n",
    "def net2(X):\n",
    "    X = X.reshape((-1, num_inputs))\n",
    "    h1 = nd.relu(nd.dot(X, W1) + b1)\n",
    "    h2 = nd.relu(nd.dot(h1, W2) + b2)\n",
    "    return nd.dot(h2, W3) + b3"
   ]
  },
  {
   "cell_type": "code",
   "execution_count": 32,
   "metadata": {
    "collapsed": true
   },
   "outputs": [],
   "source": [
    "def SGD(params, lr):\n",
    "    for param in params:\n",
    "        param[:] = param - lr * param.grad"
   ]
  },
  {
   "cell_type": "code",
   "execution_count": 33,
   "metadata": {
    "collapsed": true
   },
   "outputs": [],
   "source": [
    "import mxnet as mx\n",
    "\n",
    "def accuracy(output, label):\n",
    "    return nd.mean(output.argmax(axis=1)==label).asscalar()\n",
    "\n",
    "def _get_batch(batch, ctx):\n",
    "    \"\"\"return data and label on ctx\"\"\"\n",
    "    if isinstance(batch, mx.io.DataBatch):\n",
    "        data = batch.data[0]\n",
    "        label = batch.label[0]\n",
    "    else:\n",
    "        data, label = batch\n",
    "    return (gluon.utils.split_and_load(data, ctx),\n",
    "            gluon.utils.split_and_load(label, ctx),\n",
    "            data.shape[0])\n",
    "\n",
    "def evaluate_accuracy(data_iterator, net, ctx=[mx.cpu()]):\n",
    "    if isinstance(ctx, mx.Context):\n",
    "        ctx = [ctx]\n",
    "    acc = nd.array([0])\n",
    "    n = 0.\n",
    "    if isinstance(data_iterator, mx.io.MXDataIter):\n",
    "        data_iterator.reset()\n",
    "    for batch in data_iterator:\n",
    "        data, label, batch_size = _get_batch(batch, ctx)\n",
    "        for X, y in zip(data, label):\n",
    "            acc += nd.sum(net(X).argmax(axis=1)==y).copyto(mx.cpu())\n",
    "            n += y.size\n",
    "        acc.wait_to_read() # don't push too many operators into backend\n",
    "    return acc.asscalar() / n"
   ]
  },
  {
   "cell_type": "code",
   "execution_count": 34,
   "metadata": {},
   "outputs": [
    {
     "name": "stdout",
     "output_type": "stream",
     "text": [
      "Epoch 0. Loss: 1.167841, Train acc 0.544922, Test acc 0.762520\n",
      "Epoch 1. Loss: 0.588168, Train acc 0.784038, Test acc 0.780950\n",
      "Epoch 2. Loss: 0.494701, Train acc 0.819611, Test acc 0.828526\n",
      "Epoch 3. Loss: 0.450187, Train acc 0.835687, Test acc 0.823818\n",
      "Epoch 4. Loss: 0.425206, Train acc 0.844184, Test acc 0.844151\n"
     ]
    }
   ],
   "source": [
    "from mxnet import autograd\n",
    "from mxnet import gluon\n",
    "\n",
    "softmax_cross_entropy = gluon.loss.SoftmaxCrossEntropyLoss()\n",
    "\n",
    "learning_rate = .5\n",
    "\n",
    "for epoch in range(5):\n",
    "    train_loss = 0.\n",
    "    train_acc = 0.\n",
    "    for data, label in train_data:\n",
    "        with autograd.record():\n",
    "            output = net(data)\n",
    "            loss = softmax_cross_entropy(output, label)\n",
    "        loss.backward()\n",
    "        SGD(params, learning_rate/batch_size)\n",
    "\n",
    "        train_loss += nd.mean(loss).asscalar()\n",
    "        train_acc += accuracy(output, label)\n",
    "\n",
    "    test_acc = evaluate_accuracy(test_data, net)\n",
    "    print(\"Epoch %d. Loss: %f, Train acc %f, Test acc %f\" % (\n",
    "        epoch, train_loss/len(train_data),\n",
    "        train_acc/len(train_data), test_acc))"
   ]
  },
  {
   "cell_type": "code",
   "execution_count": 46,
   "metadata": {},
   "outputs": [
    {
     "name": "stdout",
     "output_type": "stream",
     "text": [
      "Epoch 0. Loss: 1.164189, Train acc 0.546174, Test acc 0.779247\n",
      "Epoch 1. Loss: 0.584461, Train acc 0.783804, Test acc 0.826322\n",
      "Epoch 2. Loss: 0.495628, Train acc 0.817408, Test acc 0.820112\n",
      "Epoch 3. Loss: 0.449645, Train acc 0.836321, Test acc 0.862480\n",
      "Epoch 4. Loss: 0.423767, Train acc 0.846872, Test acc 0.839243\n"
     ]
    }
   ],
   "source": [
    "from mxnet import autograd\n",
    "from mxnet import gluon\n",
    "\n",
    "softmax_cross_entropy = gluon.loss.SoftmaxCrossEntropyLoss()\n",
    "\n",
    "learning_rate = .5\n",
    "\n",
    "for epoch in range(5):\n",
    "    train_loss = 0.\n",
    "    train_acc = 0.\n",
    "    for data, label in train_data:\n",
    "        with autograd.record():\n",
    "            output = net(data)\n",
    "            loss = softmax_cross_entropy(output, label)\n",
    "        loss.backward()\n",
    "        SGD(params, learning_rate/batch_size)\n",
    "\n",
    "        train_loss += nd.mean(loss).asscalar()\n",
    "        train_acc += accuracy(output, label)\n",
    "\n",
    "    test_acc = evaluate_accuracy(test_data, net2)\n",
    "    print(\"Epoch %d. Loss: %f, Train acc %f, Test acc %f\" % (\n",
    "        epoch, train_loss/len(train_data),\n",
    "        train_acc/len(train_data), test_acc))"
   ]
  },
  {
   "cell_type": "code",
   "execution_count": 40,
   "metadata": {},
   "outputs": [
    {
     "data": {
      "image/png": "[encoded data removed]",
      "text/plain": [
       "<matplotlib.figure.Figure at 0x115e19278>"
      ]
     },
     "metadata": {},
     "output_type": "display_data"
    },
    {
     "name": "stdout",
     "output_type": "stream",
     "text": [
      "true labels\n",
      "['t-shirt', 'trouser', 'pullover', 'pullover', 'dress,', 'pullover', 'bag', 'shirt', 'sandal']\n",
      "predicted labels\n",
      "['t-shirt', 'trouser', 'pullover', 't-shirt', 'dress,', 'shirt', 'bag', 'coat', 'sandal']\n"
     ]
    }
   ],
   "source": [
    "def transform(data, label):\n",
    "    return data.astype('float32')/255, label.astype('float32')\n",
    "\n",
    "def show_images(images):\n",
    "    n = images.shape[0]\n",
    "    _, figs = plt.subplots(1, n, figsize=(15, 15))\n",
    "    for i in range(n):\n",
    "        figs[i].imshow(images[i].reshape((28, 28)).asnumpy())\n",
    "        figs[i].axes.get_xaxis().set_visible(False)\n",
    "        figs[i].axes.get_yaxis().set_visible(False)\n",
    "    plt.show()\n",
    "    \n",
    "def get_text_labels(label):\n",
    "    text_labels = [\n",
    "        't-shirt', 'trouser', 'pullover', 'dress,', 'coat',\n",
    "        'sandal', 'shirt', 'sneaker', 'bag', 'ankle boot'\n",
    "    ]\n",
    "    return [text_labels[int(i)] for i in label]\n",
    "\n",
    "mnist_test = gluon.data.vision.FashionMNIST(train=False, transform=transform)\n",
    "data, label = mnist_test[0:9]\n",
    "show_images(data)\n",
    "print('true labels')\n",
    "print(get_text_labels(label))\n",
    "\n",
    "predicted_labels = net(data).argmax(axis=1)\n",
    "print('predicted labels')\n",
    "print(get_text_labels(predicted_labels.asnumpy()))"
   ]
  },
  {
   "cell_type": "markdown",
   "metadata": {},
   "source": [
    "## Dropout-gluon"
   ]
  },
  {
   "cell_type": "code",
   "execution_count": 47,
   "metadata": {
    "collapsed": true
   },
   "outputs": [],
   "source": [
    "from mxnet.gluon import nn\n",
    "\n",
    "net = nn.Sequential()\n",
    "drop_prob1 = 0.2\n",
    "drop_prob2 = 0.5\n",
    "\n",
    "with net.name_scope():\n",
    "    net.add(nn.Flatten())\n",
    "    # 第一层全连接。\n",
    "    net.add(nn.Dense(256, activation=\"relu\"))\n",
    "    # 在第一层全连接后添加丢弃层。\n",
    "    net.add(nn.Dropout(drop_prob1))\n",
    "    # 第二层全连接。\n",
    "    net.add(nn.Dense(256, activation=\"relu\"))\n",
    "    # 在第二层全连接后添加丢弃层。\n",
    "    net.add(nn.Dropout(drop_prob2))\n",
    "    net.add(nn.Dense(10))\n",
    "net.initialize()"
   ]
  },
  {
   "cell_type": "code",
   "execution_count": 49,
   "metadata": {},
   "outputs": [
    {
     "name": "stdout",
     "output_type": "stream",
     "text": [
      "Epoch 0. Loss: 0.809952, Train acc 0.700003, Test acc 0.814704\n",
      "Epoch 1. Loss: 0.511172, Train acc 0.812767, Test acc 0.834736\n",
      "Epoch 2. Loss: 0.454620, Train acc 0.833517, Test acc 0.860076\n",
      "Epoch 3. Loss: 0.421490, Train acc 0.844668, Test acc 0.858874\n",
      "Epoch 4. Loss: 0.395078, Train acc 0.855085, Test acc 0.859075\n"
     ]
    }
   ],
   "source": [
    "from mxnet import nd\n",
    "from mxnet import autograd\n",
    "from mxnet import gluon\n",
    "\n",
    "batch_size = 256\n",
    "train_data, test_data = load_data_fashion_mnist(batch_size)\n",
    "\n",
    "softmax_cross_entropy = gluon.loss.SoftmaxCrossEntropyLoss()\n",
    "trainer = gluon.Trainer(net.collect_params(),\n",
    "                        'sgd', {'learning_rate': 0.5})\n",
    "\n",
    "for epoch in range(5):\n",
    "    train_loss = 0.\n",
    "    train_acc = 0.\n",
    "    for data, label in train_data:\n",
    "        with autograd.record():\n",
    "            output = net(data)\n",
    "            loss = softmax_cross_entropy(output, label)\n",
    "        loss.backward()\n",
    "        trainer.step(batch_size)\n",
    "\n",
    "        train_loss += nd.mean(loss).asscalar()\n",
    "        train_acc += accuracy(output, label)\n",
    "\n",
    "    test_acc = evaluate_accuracy(test_data, net)\n",
    "    print(\"Epoch %d. Loss: %f, Train acc %f, Test acc %f\" % (\n",
    "        epoch, train_loss/len(train_data),\n",
    "        train_acc/len(train_data), test_acc))"
   ]
  },
  {
   "cell_type": "code",
   "execution_count": null,
   "metadata": {
    "collapsed": true
   },
   "outputs": [],
   "source": []
  }
 ],
 "metadata": {
  "kernelspec": {
   "display_name": "Python 3",
   "language": "python",
   "name": "python3"
  },
  "language_info": {
   "codemirror_mode": {
    "name": "ipython",
    "version": 3
   },
   "file_extension": ".py",
   "mimetype": "text/x-python",
   "name": "python",
   "nbconvert_exporter": "python",
   "pygments_lexer": "ipython3",
   "version": "3.6.2"
  }
 },
 "nbformat": 4,
 "nbformat_minor": 2
}
